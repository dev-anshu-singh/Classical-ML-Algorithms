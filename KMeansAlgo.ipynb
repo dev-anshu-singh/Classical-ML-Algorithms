{
  "nbformat": 4,
  "nbformat_minor": 0,
  "metadata": {
    "colab": {
      "provenance": [],
      "authorship_tag": "ABX9TyNMliX2rxaVV2qHPqa43r7L",
      "include_colab_link": true
    },
    "kernelspec": {
      "name": "python3",
      "display_name": "Python 3"
    },
    "language_info": {
      "name": "python"
    }
  },
  "cells": [
    {
      "cell_type": "markdown",
      "metadata": {
        "id": "view-in-github",
        "colab_type": "text"
      },
      "source": [
        "<a href=\"https://colab.research.google.com/github/dev-anshu-singh/Classical-ML-Algorithms/blob/main/KMeansAlgo.ipynb\" target=\"_parent\"><img src=\"https://colab.research.google.com/assets/colab-badge.svg\" alt=\"Open In Colab\"/></a>"
      ]
    },
    {
      "cell_type": "code",
      "execution_count": 57,
      "metadata": {
        "id": "g2xa39hpShXT"
      },
      "outputs": [],
      "source": [
        "import numpy as np\n",
        "import matplotlib.pyplot as plt"
      ]
    },
    {
      "cell_type": "code",
      "source": [
        "class K_Means:\n",
        "    def __init__(self, k=2, tolerance=0.001, max_iter=500):\n",
        "        self.k = k\n",
        "        self.tolerance = tolerance\n",
        "        self.max_iterations = max_iter\n",
        "\n",
        "    def euclidean_distance(self, point_1, point_2):\n",
        "        return np.linalg.norm(np.array(point_1) - np.array(point_2))\n",
        "\n",
        "    def k_meansPlusPlus_init(self, data, k):\n",
        "        if not isinstance(data, np.ndarray):\n",
        "            raise ValueError(\"Input data must be a NumPy array.\")\n",
        "\n",
        "        n_samples = data.shape[0]\n",
        "        centroids = {}\n",
        "\n",
        "        # Select the first centroid randomly\n",
        "        first_centroid_index = np.random.randint(n_samples)\n",
        "        centroids[0] = data[first_centroid_index]\n",
        "\n",
        "        for i in range(1, k):\n",
        "            # Compute the distances from the closest centroid\n",
        "            distances = np.min([np.linalg.norm(data - c, axis=1)**2 for c in centroids.values()], axis=0)\n",
        "\n",
        "            # Compute probabilities\n",
        "            probabilities = distances / np.sum(distances)\n",
        "\n",
        "            # Select the next centroid\n",
        "            next_centroid_index = np.random.choice(n_samples, p=probabilities)\n",
        "            centroids[i] = data[next_centroid_index]\n",
        "\n",
        "        return centroids\n",
        "\n",
        "    def fit(self, data):\n",
        "        if not isinstance(data, np.ndarray):\n",
        "            raise ValueError(\"Input data must be a NumPy array.\")\n",
        "\n",
        "        n_samples, n_features = data.shape\n",
        "        self.centroids = self.k_meansPlusPlus_init(data, self.k)\n",
        "\n",
        "        for _ in range(self.max_iterations):\n",
        "            self.classes = {i: [] for i in range(self.k)}\n",
        "\n",
        "            # Assign each point to the closest centroid\n",
        "            for point in data:\n",
        "                distances = [self.euclidean_distance(point, self.centroids[index]) for index in self.centroids]\n",
        "                cluster_index = np.argmin(distances)\n",
        "                self.classes[cluster_index].append(np.array(point))\n",
        "\n",
        "            previous_centroids = dict(self.centroids)\n",
        "\n",
        "            # Update centroids\n",
        "            for cluster_index in self.classes:\n",
        "                self.centroids[cluster_index] = np.average(self.classes[cluster_index], axis=0)\n",
        "\n",
        "            # Check for convergence\n",
        "            isOptimal = True\n",
        "            epsilon = 1e-8\n",
        "            for centroid in self.centroids:\n",
        "                original_centroid = previous_centroids[centroid]\n",
        "                curr_centroid = self.centroids[centroid]\n",
        "                if np.sum((curr_centroid - original_centroid) / (original_centroid + epsilon) * 100) > self.tolerance:\n",
        "                    isOptimal = False\n",
        "\n",
        "            if isOptimal:\n",
        "                break\n",
        "\n",
        "        return self.centroids, self.classes\n"
      ],
      "metadata": {
        "id": "9SwdT9712aAH"
      },
      "execution_count": 58,
      "outputs": []
    },
    {
      "cell_type": "code",
      "source": [
        "def main():\n",
        "    K=3\n",
        "    center_1 = np.array([1,1])\n",
        "    center_2 = np.array([5,5])\n",
        "    center_3 = np.array([8,1])\n",
        "\n",
        "    # Generate random data and center it to the three centers\n",
        "    cluster_1 = np.random.randn(100, 2) + center_1\n",
        "    cluster_2 = np.random.randn(100,2) + center_2\n",
        "    cluster_3 = np.random.randn(100,2) + center_3\n",
        "\n",
        "    data = np.concatenate((cluster_1, cluster_2, cluster_3), axis = 0)\n",
        "\n",
        "    k_means = K_Means(K)\n",
        "    k_means.fit(data)\n",
        "\n",
        "\n",
        "    # Plotting starts here\n",
        "    colors = 10*[\"r\", \"g\", \"c\", \"b\", \"k\"]\n",
        "\n",
        "    for centroid in k_means.centroids:\n",
        "        plt.scatter(k_means.centroids[centroid][0], k_means.centroids[centroid][1], s = 130, marker = \"x\")\n",
        "\n",
        "    for cluster_index in k_means.classes:\n",
        "        color = colors[cluster_index]\n",
        "        for features in k_means.classes[cluster_index]:\n",
        "            plt.scatter(features[0], features[1], color = color,s = 30)\n",
        "\n",
        "if __name__ == \"__main__\":\n",
        "    main()"
      ],
      "metadata": {
        "colab": {
          "base_uri": "https://localhost:8080/",
          "height": 430
        },
        "id": "2X0Z_5Oqt_nJ",
        "outputId": "4ffe263a-e46c-4ec5-86b6-e96328af9902"
      },
      "execution_count": 60,
      "outputs": [
        {
          "output_type": "display_data",
          "data": {
            "text/plain": [
              "<Figure size 640x480 with 1 Axes>"
            ],
            "image/png": "[encoded data removed]"
          },
          "metadata": {}
        }
      ]
    }
  ]
}